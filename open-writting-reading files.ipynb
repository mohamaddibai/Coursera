{
 "cells": [
  {
   "cell_type": "code",
   "execution_count": 2,
   "metadata": {},
   "outputs": [],
   "source": [
    "guests = open(\"guests.txt\", \"w\")\n",
    "initial_guests = [\"Bob\", \"Andrea\", \"Manuel\", \"Polly\", \"Khalid\"]\n",
    "\n",
    "for i in initial_guests:\n",
    "    guests.write(i + \"\\n\")\n",
    "    \n",
    "guests.close()"
   ]
  },
  {
   "cell_type": "code",
   "execution_count": 4,
   "metadata": {},
   "outputs": [
    {
     "name": "stdout",
     "output_type": "stream",
     "text": [
      "Bob\n",
      "\n",
      "Andrea\n",
      "\n",
      "Manuel\n",
      "\n",
      "Polly\n",
      "\n",
      "Khalid\n",
      "\n"
     ]
    }
   ],
   "source": [
    "with open(\"guests.txt\") as guests:\n",
    "    for line in guests:\n",
    "        print(line)"
   ]
  },
  {
   "cell_type": "code",
   "execution_count": 5,
   "metadata": {},
   "outputs": [],
   "source": [
    "new_guests = [\"Sam\", \"Danielle\", \"Jacob\"]\n",
    "\n",
    "with open(\"guests.txt\", \"a\") as guests:\n",
    "    for i in new_guests:\n",
    "        guests.write(i + \"\\n\")\n",
    "\n",
    "guests.close()"
   ]
  },
  {
   "cell_type": "code",
   "execution_count": 6,
   "metadata": {},
   "outputs": [
    {
     "name": "stdout",
     "output_type": "stream",
     "text": [
      "Bob\n",
      "\n",
      "Andrea\n",
      "\n",
      "Manuel\n",
      "\n",
      "Polly\n",
      "\n",
      "Khalid\n",
      "\n",
      "Sam\n",
      "\n",
      "Danielle\n",
      "\n",
      "Jacob\n",
      "\n"
     ]
    }
   ],
   "source": [
    "with open(\"guests.txt\") as guests:\n",
    "    for line in guests:\n",
    "        print(line)"
   ]
  },
  {
   "cell_type": "code",
   "execution_count": 7,
   "metadata": {},
   "outputs": [],
   "source": [
    "checked_out=[\"Andrea\", \"Manuel\", \"Khalid\"]\n",
    "temp_list=[]\n",
    "\n",
    "with open(\"guests.txt\", \"r\") as guests:\n",
    "    for g in guests:\n",
    "        temp_list.append(g.strip())\n",
    "\n",
    "with open(\"guests.txt\", \"w\") as guests:\n",
    "    for name in temp_list:\n",
    "        if name not in checked_out:\n",
    "            guests.write(name + \"\\n\")"
   ]
  },
  {
   "cell_type": "code",
   "execution_count": 8,
   "metadata": {},
   "outputs": [
    {
     "name": "stdout",
     "output_type": "stream",
     "text": [
      "Bob\n",
      "\n",
      "Polly\n",
      "\n",
      "Sam\n",
      "\n",
      "Danielle\n",
      "\n",
      "Jacob\n",
      "\n"
     ]
    }
   ],
   "source": [
    "with open(\"guests.txt\") as guests:\n",
    "    for line in guests:\n",
    "        print(line)"
   ]
  },
  {
   "cell_type": "code",
   "execution_count": 9,
   "metadata": {},
   "outputs": [
    {
     "name": "stdout",
     "output_type": "stream",
     "text": [
      "Bob is checked in\n",
      "Andrea is not checked in\n"
     ]
    }
   ],
   "source": [
    "guests_to_check = ['Bob', 'Andrea']\n",
    "checked_in = []\n",
    "\n",
    "with open(\"guests.txt\",\"r\") as guests:\n",
    "    for g in guests:\n",
    "        checked_in.append(g.strip())\n",
    "    for check in guests_to_check:\n",
    "        if check in checked_in:\n",
    "            print(\"{} is checked in\".format(check))\n",
    "        else:\n",
    "            print(\"{} is not checked in\".format(check))"
   ]
  },
  {
   "cell_type": "code",
   "execution_count": null,
   "metadata": {},
   "outputs": [],
   "source": []
  }
 ],
 "metadata": {
  "kernelspec": {
   "display_name": "Python 3.8.8 ('base')",
   "language": "python",
   "name": "python3"
  },
  "language_info": {
   "codemirror_mode": {
    "name": "ipython",
    "version": 3
   },
   "file_extension": ".py",
   "mimetype": "text/x-python",
   "name": "python",
   "nbconvert_exporter": "python",
   "pygments_lexer": "ipython3",
   "version": "3.8.8"
  },
  "orig_nbformat": 4,
  "vscode": {
   "interpreter": {
    "hash": "affeb46597d5ef67810cb794a33bfc3b253d0ad852396761bded60af0feacf1b"
   }
  }
 },
 "nbformat": 4,
 "nbformat_minor": 2
}
